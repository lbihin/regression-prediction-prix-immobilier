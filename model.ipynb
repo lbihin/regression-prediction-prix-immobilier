{
 "cells": [
  {
   "cell_type": "markdown",
   "id": "0d1f252e",
   "metadata": {},
   "source": [
    "# Modelisation"
   ]
  },
  {
   "cell_type": "code",
   "execution_count": 2,
   "id": "452de3d6",
   "metadata": {},
   "outputs": [],
   "source": [
    "%load_ext autoreload\n",
    "%autoreload 2\n",
    "\n",
    "import warnings\n",
    "import pandas as pd\n",
    "\n",
    "warnings.filterwarnings(\"ignore\")\n",
    "pd.set_option('display.max_columns', 5000)\n",
    "pd.set_option(\"display.max_rows\", 101)\n",
    "pd.set_option('display.float_format', lambda x: '{:.2f}'.format(x))"
   ]
  },
  {
   "cell_type": "code",
   "execution_count": 6,
   "id": "467b9b0b",
   "metadata": {},
   "outputs": [
    {
     "name": "stdout",
     "output_type": "stream",
     "text": [
      "Le train set contient: (944, 15) élements\n",
      "Le test set contient: (236, 15) élements\n"
     ]
    }
   ],
   "source": [
    "# Load the data\n",
    "from sklearn.model_selection import train_test_split\n",
    "\n",
    "from utils import RANDOM_STATE, TARGET, TEST_SIZE\n",
    "\n",
    "\n",
    "X = pd.read_csv(\"./data/kaggle_train_set.csv\")\n",
    "y = X.pop(TARGET)\n",
    "\n",
    "X_train, X_test, y_train, y_test = train_test_split(\n",
    "    X, y, test_size=TEST_SIZE, random_state=RANDOM_STATE\n",
    "    )\n",
    "\n",
    "print(f\"Le train set contient: {X_train.shape} élements\")\n",
    "print(f\"Le test set contient: {X_test.shape} élements\")"
   ]
  }
 ],
 "metadata": {
  "kernelspec": {
   "display_name": "regression-prediction-prix-immobilier-py3.12",
   "language": "python",
   "name": "python3"
  },
  "language_info": {
   "codemirror_mode": {
    "name": "ipython",
    "version": 3
   },
   "file_extension": ".py",
   "mimetype": "text/x-python",
   "name": "python",
   "nbconvert_exporter": "python",
   "pygments_lexer": "ipython3",
   "version": "3.12.8"
  }
 },
 "nbformat": 4,
 "nbformat_minor": 5
}
